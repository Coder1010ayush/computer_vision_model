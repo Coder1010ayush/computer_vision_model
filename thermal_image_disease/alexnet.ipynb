{
 "cells": [
  {
   "cell_type": "code",
   "execution_count": 1,
   "id": "f63d9a73",
   "metadata": {
    "_cell_guid": "b1076dfc-b9ad-4769-8c92-a6c4dae69d19",
    "_uuid": "8f2839f25d086af736a60e9eeb907d3b93b6e0e5",
    "execution": {
     "iopub.execute_input": "2025-02-10T10:55:24.171776Z",
     "iopub.status.busy": "2025-02-10T10:55:24.171419Z",
     "iopub.status.idle": "2025-02-10T10:55:32.210722Z",
     "shell.execute_reply": "2025-02-10T10:55:32.209966Z"
    },
    "papermill": {
     "duration": 8.044996,
     "end_time": "2025-02-10T10:55:32.212346",
     "exception": false,
     "start_time": "2025-02-10T10:55:24.167350",
     "status": "completed"
    },
    "tags": []
   },
   "outputs": [],
   "source": [
    "import numpy as np \n",
    "import pandas as pd \n",
    "import os\n",
    "import os\n",
    "import torch\n",
    "import torchvision.transforms as transforms\n",
    "from torchvision.datasets import ImageFolder\n",
    "from PIL import Image\n",
    "import random\n",
    "# for dirname, _, filenames in os.walk('/kaggle/input'):\n",
    "#     for filename in filenames:\n",
    "#         print(os.path.join(dirname, filename))"
   ]
  },
  {
   "cell_type": "code",
   "execution_count": 2,
   "id": "d9da1078",
   "metadata": {
    "execution": {
     "iopub.execute_input": "2025-02-10T10:55:32.218765Z",
     "iopub.status.busy": "2025-02-10T10:55:32.218367Z",
     "iopub.status.idle": "2025-02-10T10:55:32.222114Z",
     "shell.execute_reply": "2025-02-10T10:55:32.221470Z"
    },
    "papermill": {
     "duration": 0.007966,
     "end_time": "2025-02-10T10:55:32.223260",
     "exception": false,
     "start_time": "2025-02-10T10:55:32.215294",
     "status": "completed"
    },
    "tags": []
   },
   "outputs": [],
   "source": [
    "import os\n",
    "import torch\n",
    "import torchvision.transforms as transforms\n",
    "from torchvision.datasets import ImageFolder\n",
    "from PIL import Image\n",
    "import random\n",
    "\n",
    "dataset_path = \"/kaggle/input/thermal-images-diseased-healthy-leaves-paddy/thermal images UL\"\n",
    "augmented_dataset_path = \"/kaggle/working/augmented_dataset\"  \n",
    "possible_augmentations = [\n",
    "    transforms.RandomHorizontalFlip(p=1.0),  \n",
    "    transforms.RandomRotation(degrees=30),  \n",
    "    transforms.ColorJitter(brightness=0.3, contrast=0.3, saturation=0.3, hue=0.1),  \n",
    "    transforms.RandomAffine(degrees=0, translate=(0.2, 0.2)),  \n",
    "    transforms.RandomPerspective(distortion_scale=0.4, p=1.0),  \n",
    "    transforms.GaussianBlur(kernel_size=5, sigma=(0.1, 3.0)),  \n",
    "]\n",
    "\n",
    "original_dataset = ImageFolder(root=dataset_path)\n",
    "if not os.path.exists(augmented_dataset_path):\n",
    "    os.makedirs(augmented_dataset_path)\n",
    "\n",
    "for class_name in original_dataset.classes:\n",
    "    os.makedirs(os.path.join(augmented_dataset_path, class_name), exist_ok=True)\n",
    "\n",
    "num_augmentations = 8  \n",
    "for img_path, label in original_dataset.samples:\n",
    "    img = Image.open(img_path).convert(\"RGB\")\n",
    "    class_name = original_dataset.classes[label]\n",
    "    save_dir = os.path.join(augmented_dataset_path, class_name)\n",
    "\n",
    "    img.save(os.path.join(save_dir, os.path.basename(img_path)))\n",
    "    for i in range(num_augmentations):\n",
    "        selected_augmentations = random.sample(possible_augmentations, k=random.randint(1, 3)) \n",
    "        transform_pipeline = transforms.Compose([transforms.Resize((227, 227))] + selected_augmentations)  \n",
    "        \n",
    "        augmented_img = transform_pipeline(img)\n",
    "        save_path = os.path.join(save_dir, f\"aug_{i}_{os.path.basename(img_path)}\")\n",
    "        augmented_img.save(save_path)\n",
    "\n",
    "print(f\"Dataset is completely augmented \")"
   ]
  },
  {
   "cell_type": "code",
   "execution_count": 3,
   "id": "73e8ebbb",
   "metadata": {
    "execution": {
     "iopub.execute_input": "2025-02-10T10:55:32.228633Z",
     "iopub.status.busy": "2025-02-10T10:55:32.228391Z",
     "iopub.status.idle": "2025-02-10T10:55:32.231246Z",
     "shell.execute_reply": "2025-02-10T10:55:32.230661Z"
    },
    "papermill": {
     "duration": 0.006729,
     "end_time": "2025-02-10T10:55:32.232400",
     "exception": false,
     "start_time": "2025-02-10T10:55:32.225671",
     "status": "completed"
    },
    "tags": []
   },
   "outputs": [],
   "source": [
    "import shutil\n",
    "import os\n",
    "\n",
    "def zip_folder(folder_path, output_zip_path):\n",
    "    if not os.path.exists(folder_path):\n",
    "        print(f\"Error: The folder '{folder_path}' does not exist.\")\n",
    "        return\n",
    "    shutil.make_archive(output_zip_path, 'zip', folder_path)\n",
    "    print(f\"Folder '{folder_path}' has been zipped to '{output_zip_path}.zip'\")\n",
    "\n",
    "zip_folder(\"/kaggle/working/augmented_dataset\", \"/kaggle/working/augmented_dataset_zip_file\")\n",
    "print(f\"successfully zipped\")"
   ]
  },
  {
   "cell_type": "code",
   "execution_count": 4,
   "id": "6ee9bd80",
   "metadata": {
    "execution": {
     "iopub.execute_input": "2025-02-10T10:55:32.237558Z",
     "iopub.status.busy": "2025-02-10T10:55:32.237344Z",
     "iopub.status.idle": "2025-02-10T10:55:32.240334Z",
     "shell.execute_reply": "2025-02-10T10:55:32.239724Z"
    },
    "papermill": {
     "duration": 0.006717,
     "end_time": "2025-02-10T10:55:32.241394",
     "exception": false,
     "start_time": "2025-02-10T10:55:32.234677",
     "status": "completed"
    },
    "tags": []
   },
   "outputs": [],
   "source": [
    "augmented_dataset_path = \"/kaggle/input/thermal-dataset\""
   ]
  },
  {
   "cell_type": "code",
   "execution_count": 5,
   "id": "de57e1d1",
   "metadata": {
    "execution": {
     "iopub.execute_input": "2025-02-10T10:55:32.246445Z",
     "iopub.status.busy": "2025-02-10T10:55:32.246243Z",
     "iopub.status.idle": "2025-02-10T10:55:36.688557Z",
     "shell.execute_reply": "2025-02-10T10:55:36.687727Z"
    },
    "papermill": {
     "duration": 4.446521,
     "end_time": "2025-02-10T10:55:36.690154",
     "exception": false,
     "start_time": "2025-02-10T10:55:32.243633",
     "status": "completed"
    },
    "tags": []
   },
   "outputs": [],
   "source": [
    "from torch.utils.data import DataLoader\n",
    "\n",
    "transform = transforms.Compose([\n",
    "    transforms.Resize((227, 227)), \n",
    "    transforms.ToTensor(),\n",
    "    transforms.Normalize(mean=[0.485, 0.456, 0.406], std=[0.229, 0.224, 0.225])\n",
    "])\n",
    "augmented_dataset = ImageFolder(root=augmented_dataset_path, transform=transform)\n",
    "train_size = int(0.6 * len(augmented_dataset))\n",
    "val_size = int(0.2 * len(augmented_dataset))\n",
    "test_size = len(augmented_dataset) - train_size - val_size\n",
    "train_dataset, val_dataset, test_dataset = torch.utils.data.random_split(augmented_dataset, [train_size, val_size, test_size])\n",
    "\n",
    "batch_size = 32\n",
    "train_loader = DataLoader(train_dataset, batch_size=batch_size, shuffle=True, num_workers=2)\n",
    "val_loader = DataLoader(val_dataset, batch_size=batch_size, shuffle=False, num_workers=2)\n",
    "test_loader = DataLoader(test_dataset, batch_size=batch_size, shuffle=False, num_workers=2)"
   ]
  },
  {
   "cell_type": "code",
   "execution_count": 6,
   "id": "a331b83d",
   "metadata": {
    "execution": {
     "iopub.execute_input": "2025-02-10T10:55:36.696011Z",
     "iopub.status.busy": "2025-02-10T10:55:36.695737Z",
     "iopub.status.idle": "2025-02-10T11:00:32.298206Z",
     "shell.execute_reply": "2025-02-10T11:00:32.296951Z"
    },
    "papermill": {
     "duration": 295.607046,
     "end_time": "2025-02-10T11:00:32.299880",
     "exception": false,
     "start_time": "2025-02-10T10:55:36.692834",
     "status": "completed"
    },
    "tags": []
   },
   "outputs": [
    {
     "name": "stdout",
     "output_type": "stream",
     "text": [
      "Using device: cuda\n"
     ]
    },
    {
     "name": "stderr",
     "output_type": "stream",
     "text": [
      "Downloading: \"https://download.pytorch.org/models/alexnet-owt-7be5be79.pth\" to /root/.cache/torch/hub/checkpoints/alexnet-owt-7be5be79.pth\n",
      "100%|██████████| 233M/233M [00:01<00:00, 228MB/s]\n"
     ]
    },
    {
     "name": "stdout",
     "output_type": "stream",
     "text": [
      "Loss: 1.5266, Accuracy: 39.98%\n",
      "Loss: 1.2270, Accuracy: 52.62%\n",
      "Loss: 1.1152, Accuracy: 58.27%\n",
      "Loss: 1.0428, Accuracy: 62.20%\n",
      "Loss: 0.9957, Accuracy: 62.46%\n",
      "Loss: 0.9771, Accuracy: 64.41%\n",
      "Loss: 0.9350, Accuracy: 65.35%\n",
      "Loss: 0.9107, Accuracy: 66.48%\n",
      "Loss: 0.8924, Accuracy: 66.86%\n",
      "Loss: 0.8778, Accuracy: 66.95%\n",
      "Loss: 0.8463, Accuracy: 68.67%\n",
      "Loss: 0.8411, Accuracy: 68.67%\n",
      "Loss: 0.8244, Accuracy: 70.01%\n",
      "Loss: 0.8282, Accuracy: 69.45%\n",
      "Loss: 0.7992, Accuracy: 70.62%\n",
      "Loss: 0.7890, Accuracy: 70.91%\n",
      "Loss: 0.7835, Accuracy: 71.03%\n",
      "Loss: 0.7757, Accuracy: 71.96%\n",
      "Loss: 0.7549, Accuracy: 73.30%\n",
      "Loss: 0.7662, Accuracy: 71.32%\n",
      "Loss: 0.7457, Accuracy: 72.66%\n",
      "Loss: 0.7356, Accuracy: 72.48%\n",
      "Loss: 0.7341, Accuracy: 72.86%\n",
      "Loss: 0.7295, Accuracy: 72.77%\n",
      "Loss: 0.7325, Accuracy: 72.92%\n",
      "Loss: 0.7219, Accuracy: 73.41%\n",
      "Loss: 0.7139, Accuracy: 74.02%\n",
      "Loss: 0.7090, Accuracy: 74.20%\n",
      "Loss: 0.7058, Accuracy: 73.68%\n",
      "Loss: 0.7023, Accuracy: 73.73%\n",
      "Loss: 0.6910, Accuracy: 75.16%\n",
      "Loss: 0.6769, Accuracy: 75.39%\n",
      "Loss: 0.6803, Accuracy: 74.93%\n",
      "Loss: 0.6760, Accuracy: 73.97%\n",
      "Loss: 0.6896, Accuracy: 74.46%\n",
      "Loss: 0.6772, Accuracy: 74.78%\n",
      "Loss: 0.6750, Accuracy: 76.03%\n",
      "Loss: 0.6741, Accuracy: 75.22%\n",
      "Loss: 0.6686, Accuracy: 75.25%\n",
      "Loss: 0.6518, Accuracy: 76.82%\n",
      "Loss: 0.6597, Accuracy: 76.09%\n",
      "Loss: 0.6402, Accuracy: 76.88%\n",
      "Loss: 0.6529, Accuracy: 75.66%\n",
      "Loss: 0.6543, Accuracy: 76.32%\n",
      "Loss: 0.6399, Accuracy: 76.85%\n",
      "Loss: 0.6640, Accuracy: 75.74%\n",
      "Loss: 0.6356, Accuracy: 76.41%\n",
      "Loss: 0.6460, Accuracy: 76.27%\n",
      "Loss: 0.6216, Accuracy: 76.47%\n",
      "Loss: 0.6277, Accuracy: 76.38%\n",
      "Loss: 0.6355, Accuracy: 76.56%\n",
      "Loss: 0.6377, Accuracy: 76.30%\n",
      "Loss: 0.6246, Accuracy: 76.94%\n",
      "Loss: 0.6243, Accuracy: 77.34%\n",
      "Loss: 0.6307, Accuracy: 76.94%\n",
      "Loss: 0.6245, Accuracy: 76.47%\n",
      "Loss: 0.6032, Accuracy: 78.28%\n",
      "Loss: 0.6036, Accuracy: 77.98%\n",
      "Loss: 0.6220, Accuracy: 77.32%\n",
      "Loss: 0.6174, Accuracy: 77.20%\n",
      "Loss: 0.6186, Accuracy: 76.56%\n",
      "Loss: 0.5996, Accuracy: 78.19%\n",
      "Loss: 0.5984, Accuracy: 78.63%\n",
      "Loss: 0.6126, Accuracy: 77.98%\n",
      "Loss: 0.5950, Accuracy: 78.25%\n",
      "Loss: 0.5962, Accuracy: 78.48%\n",
      "Loss: 0.5956, Accuracy: 78.01%\n",
      "Loss: 0.6001, Accuracy: 78.01%\n",
      "Loss: 0.5947, Accuracy: 77.75%\n",
      "Loss: 0.5984, Accuracy: 77.34%\n",
      "\n",
      " Model saved as alexnet_trained.pth\n"
     ]
    }
   ],
   "source": [
    "import torch\n",
    "import torch.nn as nn\n",
    "import torch.optim as optim\n",
    "import torchvision.models as models\n",
    "from tqdm import tqdm\n",
    "from torch.utils.data import DataLoader\n",
    "\n",
    "device = torch.device(\"cuda\" if torch.cuda.is_available() else \"cpu\")\n",
    "print(f\"Using device: {device}\")\n",
    "\n",
    "model = models.alexnet(weights=models.AlexNet_Weights.IMAGENET1K_V1)\n",
    "num_ftrs = model.classifier[6].in_features \n",
    "num_classes = 6  \n",
    "model.classifier[6] = nn.Linear(num_ftrs, num_classes)\n",
    "\n",
    "for param in model.parameters():\n",
    "    param.requires_grad = False\n",
    "for param in model.classifier[6].parameters():\n",
    "    param.requires_grad = True\n",
    "\n",
    "model = model.to(device)\n",
    "criterion = nn.CrossEntropyLoss()\n",
    "optimizer = optim.Adam(model.classifier[6].parameters(), lr=0.0001)\n",
    "scaler = torch.amp.GradScaler()\n",
    "\n",
    "train_loader = DataLoader(train_dataset, batch_size=32, shuffle=True, num_workers=4, pin_memory=True)\n",
    "val_loader = DataLoader(val_dataset, batch_size=32, shuffle=False, num_workers=4, pin_memory=True)\n",
    "test_loader = DataLoader(test_dataset, batch_size=32, shuffle=False, num_workers=4, pin_memory=True)\n",
    "\n",
    "num_epochs = 70\n",
    "train_acc_history = []\n",
    "val_acc_history = []\n",
    "test_acc_history = []\n",
    "\n",
    "for epoch in range(num_epochs):\n",
    "    model.train()\n",
    "    correct = 0\n",
    "    total = 0\n",
    "    running_loss = 0.0\n",
    "\n",
    "    for images, labels in train_loader:\n",
    "        images, labels = images.to(device), labels.to(device)\n",
    "\n",
    "        optimizer.zero_grad()\n",
    "\n",
    "        with torch.amp.autocast(device_type=\"cuda\"):\n",
    "            outputs = model(images)\n",
    "            loss = criterion(outputs, labels)\n",
    "\n",
    "        scaler.scale(loss).backward()\n",
    "        scaler.step(optimizer)\n",
    "        scaler.update()\n",
    "\n",
    "        running_loss += loss.item()\n",
    "        _, predicted = torch.max(outputs, 1)\n",
    "        correct += (predicted == labels).sum().item()\n",
    "        total += labels.size(0)\n",
    "    print(f\"Loss: {running_loss / len(train_loader):.4f}, Accuracy: {100 * correct / total:.2f}%\")\n",
    "\n",
    "torch.save(model.state_dict(), \"alexnet_trained.pth\")\n",
    "print(\"\\n Model saved as alexnet_trained.pth\")"
   ]
  },
  {
   "cell_type": "code",
   "execution_count": 7,
   "id": "88102370",
   "metadata": {
    "execution": {
     "iopub.execute_input": "2025-02-10T11:00:32.313598Z",
     "iopub.status.busy": "2025-02-10T11:00:32.313237Z",
     "iopub.status.idle": "2025-02-10T11:00:39.797393Z",
     "shell.execute_reply": "2025-02-10T11:00:39.796086Z"
    },
    "papermill": {
     "duration": 7.492484,
     "end_time": "2025-02-10T11:00:39.798844",
     "exception": false,
     "start_time": "2025-02-10T11:00:32.306360",
     "status": "completed"
    },
    "tags": []
   },
   "outputs": [
    {
     "name": "stdout",
     "output_type": "stream",
     "text": [
      "\n",
      " Final Per-Class Training Accuracy:\n",
      "\n",
      "BLB: Training = 93.06%\n",
      "Blast: Training = 69.71%\n",
      "healthy: Training = 89.74%\n",
      "hispa: Training = 92.76%\n",
      "leaf folder: Training = 98.43%\n",
      "leaf spot: Training = 74.38%\n",
      "\n",
      " Final Per-Class Validation Accuracy:\n",
      "\n",
      "BLB: Validation = 86.46%\n",
      "Blast: Validation = 49.06%\n",
      "healthy: Validation = 81.98%\n",
      "hispa: Validation = 80.16%\n",
      "leaf folder: Validation = 89.06%\n",
      "leaf spot: Validation = 56.52%\n",
      "\n",
      " Final Per-Class Test Accuracy:\n",
      "\n",
      "BLB: Test = 84.42%\n",
      "Blast: Test = 50.00%\n",
      "healthy: Test = 77.98%\n",
      "hispa: Test = 81.99%\n",
      "leaf folder: Test = 82.35%\n",
      "leaf spot: Test = 63.06%\n"
     ]
    }
   ],
   "source": [
    "import numpy as np\n",
    "import torch\n",
    "\n",
    "class_names = augmented_dataset.classes  \n",
    "num_classes = len(class_names)  \n",
    "\n",
    "def calculate_per_class_accuracy(model, data_loaders, device, datasets=[\"Training\", \"Validation\", \"Test\"]):\n",
    "    for dataset_type, data_loader in zip(datasets, data_loaders):\n",
    "        model.eval()\n",
    "        class_correct = np.zeros(num_classes) \n",
    "        class_total = np.zeros(num_classes)\n",
    "\n",
    "        with torch.no_grad():\n",
    "            for images, labels in data_loader:\n",
    "                images, labels = images.to(device), labels.to(device)\n",
    "                outputs = model(images)\n",
    "                _, predicted = torch.max(outputs, 1)\n",
    "\n",
    "                for i in range(len(labels)):\n",
    "                    label = labels[i].item()\n",
    "                    class_correct[label] += (predicted[i] == label).item()\n",
    "                    class_total[label] += 1\n",
    "\n",
    "        print(f\"\\n Final Per-Class {dataset_type} Accuracy:\\n\")\n",
    "        for i in range(num_classes):  \n",
    "            if class_total[i] > 0:\n",
    "                accuracy = 100 * class_correct[i] / class_total[i]\n",
    "                print(f\"{class_names[i]}: {dataset_type} = {accuracy:.2f}%\")\n",
    "            else:\n",
    "                print(f\"{class_names[i]}: {dataset_type} = No samples available \")\n",
    "\n",
    "data_loaders = [train_loader, val_loader, test_loader]\n",
    "datasets = [\"Training\", \"Validation\", \"Test\"]\n",
    "calculate_per_class_accuracy(model, data_loaders, device, datasets=datasets)"
   ]
  },
  {
   "cell_type": "code",
   "execution_count": 8,
   "id": "93a12a82",
   "metadata": {
    "execution": {
     "iopub.execute_input": "2025-02-10T11:00:39.812795Z",
     "iopub.status.busy": "2025-02-10T11:00:39.812495Z",
     "iopub.status.idle": "2025-02-10T11:00:43.880734Z",
     "shell.execute_reply": "2025-02-10T11:00:43.879710Z"
    },
    "papermill": {
     "duration": 4.077152,
     "end_time": "2025-02-10T11:00:43.882648",
     "exception": false,
     "start_time": "2025-02-10T11:00:39.805496",
     "status": "completed"
    },
    "tags": []
   },
   "outputs": [
    {
     "name": "stdout",
     "output_type": "stream",
     "text": [
      "Test Accuracy: 76.18%\n"
     ]
    },
    {
     "data": {
      "image/png": "[encoded data removed]",
      "text/plain": [
       "<Figure size 1000x500 with 1 Axes>"
      ]
     },
     "metadata": {},
     "output_type": "display_data"
    }
   ],
   "source": [
    "import numpy as np\n",
    "import torch\n",
    "from sklearn.metrics import precision_recall_curve, average_precision_score\n",
    "import matplotlib.pyplot as plt\n",
    "y_true = []\n",
    "y_scores = []\n",
    "model.eval()\n",
    "\n",
    "correct = 0\n",
    "total = 0\n",
    "with torch.no_grad():\n",
    "    for images, labels in test_loader:\n",
    "        images, labels = images.to(device), labels.to(device)\n",
    "        outputs = model(images)\n",
    "        _, predicted = torch.max(outputs, 1)\n",
    "        correct += (predicted == labels).sum().item()\n",
    "        total += labels.size(0)\n",
    "\n",
    "test_acc = 100 * correct / total\n",
    "print(f\"Test Accuracy: {test_acc:.2f}%\")\n",
    "with torch.no_grad():\n",
    "    for images, labels in test_loader:\n",
    "        images, labels = images.to(device), labels.to(device)\n",
    "        outputs = model(images)\n",
    "        probs = torch.nn.functional.softmax(outputs, dim=1)\n",
    "        \n",
    "        y_true.extend(labels.cpu().numpy())\n",
    "        y_scores.extend(probs.cpu().numpy())\n",
    "\n",
    "y_true = np.array(y_true)\n",
    "y_scores = np.array(y_scores)\n",
    "\n",
    "plt.figure(figsize=(10, 5))\n",
    "for i in range(len(class_names)):\n",
    "    precision, recall, _ = precision_recall_curve(y_true == i, y_scores[:, i])\n",
    "    avg_precision = average_precision_score(y_true == i, y_scores[:, i])\n",
    "    plt.plot(recall, precision, label=f\"{class_names[i]} (AP={avg_precision:.2f})\")\n",
    "\n",
    "plt.xlabel(\"Recall\")\n",
    "plt.ylabel(\"Precision\")\n",
    "plt.title(\"Precision-Recall Curve for Plant Disease Classification\")\n",
    "plt.legend()\n",
    "plt.show()"
   ]
  },
  {
   "cell_type": "code",
   "execution_count": 9,
   "id": "0a7d4b4f",
   "metadata": {
    "execution": {
     "iopub.execute_input": "2025-02-10T11:00:43.899803Z",
     "iopub.status.busy": "2025-02-10T11:00:43.899309Z",
     "iopub.status.idle": "2025-02-10T11:00:43.904408Z",
     "shell.execute_reply": "2025-02-10T11:00:43.903733Z"
    },
    "papermill": {
     "duration": 0.015061,
     "end_time": "2025-02-10T11:00:43.905773",
     "exception": false,
     "start_time": "2025-02-10T11:00:43.890712",
     "status": "completed"
    },
    "tags": []
   },
   "outputs": [
    {
     "data": {
      "text/plain": [
       "' \\n\\nUNet, Resnet, SegNet, GoogleNet, VGG, AlexNet, IncepTon V3, R-CNN, YOLOv11,\\nViT, EfficientNetv2\\n'"
      ]
     },
     "execution_count": 9,
     "metadata": {},
     "output_type": "execute_result"
    }
   ],
   "source": [
    "\"\"\" \n",
    "\n",
    "UNet, Resnet, GoogleNet, VGG, AlexNet, IncepTon V3,\n",
    "ViT, EfficientNetv2\n",
    "\"\"\""
   ]
  },
  {
   "cell_type": "code",
   "execution_count": 10,
   "id": "62a328a2",
   "metadata": {
    "execution": {
     "iopub.execute_input": "2025-02-10T11:00:43.922439Z",
     "iopub.status.busy": "2025-02-10T11:00:43.922172Z",
     "iopub.status.idle": "2025-02-10T11:00:43.925391Z",
     "shell.execute_reply": "2025-02-10T11:00:43.924608Z"
    },
    "papermill": {
     "duration": 0.013917,
     "end_time": "2025-02-10T11:00:43.927320",
     "exception": false,
     "start_time": "2025-02-10T11:00:43.913403",
     "status": "completed"
    },
    "tags": []
   },
   "outputs": [],
   "source": [
    "# alexnet , resnet , googlenet , unet , vgg\n",
    "# segnet , inception , rcnn , vit  , efficient net"
   ]
  }
 ],
 "metadata": {
  "kaggle": {
   "accelerator": "gpu",
   "dataSources": [
    {
     "datasetId": 608236,
     "sourceId": 1091061,
     "sourceType": "datasetVersion"
    },
    {
     "datasetId": 6638340,
     "sourceId": 10710646,
     "sourceType": "datasetVersion"
    }
   ],
   "dockerImageVersionId": 30886,
   "isGpuEnabled": true,
   "isInternetEnabled": true,
   "language": "python",
   "sourceType": "notebook"
  },
  "kernelspec": {
   "display_name": "Python 3",
   "language": "python",
   "name": "python3"
  },
  "language_info": {
   "codemirror_mode": {
    "name": "ipython",
    "version": 3
   },
   "file_extension": ".py",
   "mimetype": "text/x-python",
   "name": "python",
   "nbconvert_exporter": "python",
   "pygments_lexer": "ipython3",
   "version": "3.10.12"
  },
  "papermill": {
   "default_parameters": {},
   "duration": 325.140737,
   "end_time": "2025-02-10T11:00:46.666641",
   "environment_variables": {},
   "exception": null,
   "input_path": "__notebook__.ipynb",
   "output_path": "__notebook__.ipynb",
   "parameters": {},
   "start_time": "2025-02-10T10:55:21.525904",
   "version": "2.6.0"
  }
 },
 "nbformat": 4,
 "nbformat_minor": 5
}
