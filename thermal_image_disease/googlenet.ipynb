{
 "cells": [
  {
   "cell_type": "code",
   "execution_count": 1,
   "id": "08ec295c",
   "metadata": {
    "_cell_guid": "b1076dfc-b9ad-4769-8c92-a6c4dae69d19",
    "_uuid": "8f2839f25d086af736a60e9eeb907d3b93b6e0e5",
    "execution": {
     "iopub.execute_input": "2025-02-10T11:41:56.704444Z",
     "iopub.status.busy": "2025-02-10T11:41:56.704179Z",
     "iopub.status.idle": "2025-02-10T11:42:04.417651Z",
     "shell.execute_reply": "2025-02-10T11:42:04.416997Z"
    },
    "papermill": {
     "duration": 7.718954,
     "end_time": "2025-02-10T11:42:04.419130",
     "exception": false,
     "start_time": "2025-02-10T11:41:56.700176",
     "status": "completed"
    },
    "tags": []
   },
   "outputs": [],
   "source": [
    "import numpy as np \n",
    "import pandas as pd \n",
    "import os\n",
    "import os\n",
    "import torch\n",
    "import torchvision.transforms as transforms\n",
    "from torchvision.datasets import ImageFolder\n",
    "from PIL import Image\n",
    "import random\n",
    "# for dirname, _, filenames in os.walk('/kaggle/input'):\n",
    "#     for filename in filenames:\n",
    "#         print(os.path.join(dirname, filename))\n"
   ]
  },
  {
   "cell_type": "code",
   "execution_count": 2,
   "id": "f2de5dd7",
   "metadata": {
    "execution": {
     "iopub.execute_input": "2025-02-10T11:42:04.425428Z",
     "iopub.status.busy": "2025-02-10T11:42:04.425104Z",
     "iopub.status.idle": "2025-02-10T11:42:12.752280Z",
     "shell.execute_reply": "2025-02-10T11:42:12.751193Z"
    },
    "papermill": {
     "duration": 8.331852,
     "end_time": "2025-02-10T11:42:12.753955",
     "exception": false,
     "start_time": "2025-02-10T11:42:04.422103",
     "status": "completed"
    },
    "tags": []
   },
   "outputs": [
    {
     "name": "stdout",
     "output_type": "stream",
     "text": [
      "Collecting segmentation_models_pytorch\r\n",
      "  Downloading segmentation_models_pytorch-0.4.0-py3-none-any.whl.metadata (32 kB)\r\n",
      "Collecting efficientnet-pytorch>=0.6.1 (from segmentation_models_pytorch)\r\n",
      "  Downloading efficientnet_pytorch-0.7.1.tar.gz (21 kB)\r\n",
      "  Preparing metadata (setup.py) ... \u001b[?25l\u001b[?25hdone\r\n",
      "Requirement already satisfied: huggingface-hub>=0.24 in /usr/local/lib/python3.10/dist-packages (from segmentation_models_pytorch) (0.28.1)\r\n",
      "Requirement already satisfied: numpy>=1.19.3 in /usr/local/lib/python3.10/dist-packages (from segmentation_models_pytorch) (1.26.4)\r\n",
      "Requirement already satisfied: pillow>=8 in /usr/local/lib/python3.10/dist-packages (from segmentation_models_pytorch) (11.0.0)\r\n",
      "Collecting pretrainedmodels>=0.7.1 (from segmentation_models_pytorch)\r\n",
      "  Downloading pretrainedmodels-0.7.4.tar.gz (58 kB)\r\n",
      "\u001b[2K     \u001b[90m━━━━━━━━━━━━━━━━━━━━━━━━━━━━━━━━━━━━━━━━\u001b[0m \u001b[32m58.8/58.8 kB\u001b[0m \u001b[31m3.9 MB/s\u001b[0m eta \u001b[36m0:00:00\u001b[0m\r\n",
      "\u001b[?25h  Preparing metadata (setup.py) ... \u001b[?25l\u001b[?25hdone\r\n",
      "Requirement already satisfied: six>=1.5 in /usr/local/lib/python3.10/dist-packages (from segmentation_models_pytorch) (1.17.0)\r\n",
      "Requirement already satisfied: timm>=0.9 in /usr/local/lib/python3.10/dist-packages (from segmentation_models_pytorch) (1.0.12)\r\n",
      "Requirement already satisfied: torch>=1.8 in /usr/local/lib/python3.10/dist-packages (from segmentation_models_pytorch) (2.5.1+cu121)\r\n",
      "Requirement already satisfied: torchvision>=0.9 in /usr/local/lib/python3.10/dist-packages (from segmentation_models_pytorch) (0.20.1+cu121)\r\n",
      "Requirement already satisfied: tqdm>=4.42.1 in /usr/local/lib/python3.10/dist-packages (from segmentation_models_pytorch) (4.67.1)\r\n",
      "Requirement already satisfied: filelock in /usr/local/lib/python3.10/dist-packages (from huggingface-hub>=0.24->segmentation_models_pytorch) (3.17.0)\r\n",
      "Requirement already satisfied: fsspec>=2023.5.0 in /usr/local/lib/python3.10/dist-packages (from huggingface-hub>=0.24->segmentation_models_pytorch) (2024.9.0)\r\n",
      "Requirement already satisfied: packaging>=20.9 in /usr/local/lib/python3.10/dist-packages (from huggingface-hub>=0.24->segmentation_models_pytorch) (24.2)\r\n",
      "Requirement already satisfied: pyyaml>=5.1 in /usr/local/lib/python3.10/dist-packages (from huggingface-hub>=0.24->segmentation_models_pytorch) (6.0.2)\r\n",
      "Requirement already satisfied: requests in /usr/local/lib/python3.10/dist-packages (from huggingface-hub>=0.24->segmentation_models_pytorch) (2.32.3)\r\n",
      "Requirement already satisfied: typing-extensions>=3.7.4.3 in /usr/local/lib/python3.10/dist-packages (from huggingface-hub>=0.24->segmentation_models_pytorch) (4.12.2)\r\n",
      "Requirement already satisfied: mkl_fft in /usr/local/lib/python3.10/dist-packages (from numpy>=1.19.3->segmentation_models_pytorch) (1.3.8)\r\n",
      "Requirement already satisfied: mkl_random in /usr/local/lib/python3.10/dist-packages (from numpy>=1.19.3->segmentation_models_pytorch) (1.2.4)\r\n",
      "Requirement already satisfied: mkl_umath in /usr/local/lib/python3.10/dist-packages (from numpy>=1.19.3->segmentation_models_pytorch) (0.1.1)\r\n",
      "Requirement already satisfied: mkl in /usr/local/lib/python3.10/dist-packages (from numpy>=1.19.3->segmentation_models_pytorch) (2025.0.1)\r\n",
      "Requirement already satisfied: tbb4py in /usr/local/lib/python3.10/dist-packages (from numpy>=1.19.3->segmentation_models_pytorch) (2022.0.0)\r\n",
      "Requirement already satisfied: mkl-service in /usr/local/lib/python3.10/dist-packages (from numpy>=1.19.3->segmentation_models_pytorch) (2.4.1)\r\n",
      "Collecting munch (from pretrainedmodels>=0.7.1->segmentation_models_pytorch)\r\n",
      "  Downloading munch-4.0.0-py2.py3-none-any.whl.metadata (5.9 kB)\r\n",
      "Requirement already satisfied: safetensors in /usr/local/lib/python3.10/dist-packages (from timm>=0.9->segmentation_models_pytorch) (0.4.5)\r\n",
      "Requirement already satisfied: networkx in /usr/local/lib/python3.10/dist-packages (from torch>=1.8->segmentation_models_pytorch) (3.4.2)\r\n",
      "Requirement already satisfied: jinja2 in /usr/local/lib/python3.10/dist-packages (from torch>=1.8->segmentation_models_pytorch) (3.1.4)\r\n",
      "Requirement already satisfied: sympy==1.13.1 in /usr/local/lib/python3.10/dist-packages (from torch>=1.8->segmentation_models_pytorch) (1.13.1)\r\n",
      "Requirement already satisfied: mpmath<1.4,>=1.1.0 in /usr/local/lib/python3.10/dist-packages (from sympy==1.13.1->torch>=1.8->segmentation_models_pytorch) (1.3.0)\r\n",
      "Requirement already satisfied: MarkupSafe>=2.0 in /usr/local/lib/python3.10/dist-packages (from jinja2->torch>=1.8->segmentation_models_pytorch) (3.0.2)\r\n",
      "Requirement already satisfied: intel-openmp>=2024 in /usr/local/lib/python3.10/dist-packages (from mkl->numpy>=1.19.3->segmentation_models_pytorch) (2024.2.0)\r\n",
      "Requirement already satisfied: tbb==2022.* in /usr/local/lib/python3.10/dist-packages (from mkl->numpy>=1.19.3->segmentation_models_pytorch) (2022.0.0)\r\n",
      "Requirement already satisfied: tcmlib==1.* in /usr/local/lib/python3.10/dist-packages (from tbb==2022.*->mkl->numpy>=1.19.3->segmentation_models_pytorch) (1.2.0)\r\n",
      "Requirement already satisfied: intel-cmplr-lib-rt in /usr/local/lib/python3.10/dist-packages (from mkl_umath->numpy>=1.19.3->segmentation_models_pytorch) (2024.2.0)\r\n",
      "Requirement already satisfied: charset-normalizer<4,>=2 in /usr/local/lib/python3.10/dist-packages (from requests->huggingface-hub>=0.24->segmentation_models_pytorch) (3.4.1)\r\n",
      "Requirement already satisfied: idna<4,>=2.5 in /usr/local/lib/python3.10/dist-packages (from requests->huggingface-hub>=0.24->segmentation_models_pytorch) (3.10)\r\n",
      "Requirement already satisfied: urllib3<3,>=1.21.1 in /usr/local/lib/python3.10/dist-packages (from requests->huggingface-hub>=0.24->segmentation_models_pytorch) (2.3.0)\r\n",
      "Requirement already satisfied: certifi>=2017.4.17 in /usr/local/lib/python3.10/dist-packages (from requests->huggingface-hub>=0.24->segmentation_models_pytorch) (2025.1.31)\r\n",
      "Requirement already satisfied: intel-cmplr-lib-ur==2024.2.0 in /usr/local/lib/python3.10/dist-packages (from intel-openmp>=2024->mkl->numpy>=1.19.3->segmentation_models_pytorch) (2024.2.0)\r\n",
      "Downloading segmentation_models_pytorch-0.4.0-py3-none-any.whl (121 kB)\r\n",
      "\u001b[2K   \u001b[90m━━━━━━━━━━━━━━━━━━━━━━━━━━━━━━━━━━━━━━━━\u001b[0m \u001b[32m121.3/121.3 kB\u001b[0m \u001b[31m5.3 MB/s\u001b[0m eta \u001b[36m0:00:00\u001b[0m\r\n",
      "\u001b[?25hDownloading munch-4.0.0-py2.py3-none-any.whl (9.9 kB)\r\n",
      "Building wheels for collected packages: efficientnet-pytorch, pretrainedmodels\r\n",
      "  Building wheel for efficientnet-pytorch (setup.py) ... \u001b[?25l\u001b[?25hdone\r\n",
      "  Created wheel for efficientnet-pytorch: filename=efficientnet_pytorch-0.7.1-py3-none-any.whl size=16424 sha256=7697f1bac930b7cfe8b13c138a69fab980434304098941d4a6300dc2071062b2\r\n",
      "  Stored in directory: /root/.cache/pip/wheels/03/3f/e9/911b1bc46869644912bda90a56bcf7b960f20b5187feea3baf\r\n",
      "  Building wheel for pretrainedmodels (setup.py) ... \u001b[?25l\u001b[?25hdone\r\n",
      "  Created wheel for pretrainedmodels: filename=pretrainedmodels-0.7.4-py3-none-any.whl size=60944 sha256=09043d1a6bd37a613882c38a7f580c743055629d25e047d8f23207cbc8ebe420\r\n",
      "  Stored in directory: /root/.cache/pip/wheels/35/cb/a5/8f534c60142835bfc889f9a482e4a67e0b817032d9c6883b64\r\n",
      "Successfully built efficientnet-pytorch pretrainedmodels\r\n",
      "Installing collected packages: munch, efficientnet-pytorch, pretrainedmodels, segmentation_models_pytorch\r\n",
      "Successfully installed efficientnet-pytorch-0.7.1 munch-4.0.0 pretrainedmodels-0.7.4 segmentation_models_pytorch-0.4.0\r\n"
     ]
    }
   ],
   "source": [
    "!pip install segmentation_models_pytorch"
   ]
  },
  {
   "cell_type": "code",
   "execution_count": 3,
   "id": "bdc9f3e4",
   "metadata": {
    "execution": {
     "iopub.execute_input": "2025-02-10T11:42:12.762009Z",
     "iopub.status.busy": "2025-02-10T11:42:12.761726Z",
     "iopub.status.idle": "2025-02-10T11:42:12.765246Z",
     "shell.execute_reply": "2025-02-10T11:42:12.764615Z"
    },
    "papermill": {
     "duration": 0.008827,
     "end_time": "2025-02-10T11:42:12.766455",
     "exception": false,
     "start_time": "2025-02-10T11:42:12.757628",
     "status": "completed"
    },
    "tags": []
   },
   "outputs": [],
   "source": [
    "import os\n",
    "import torch\n",
    "import torchvision.transforms as transforms\n",
    "from torchvision.datasets import ImageFolder\n",
    "from PIL import Image\n",
    "import random\n",
    "\n",
    "dataset_path = \"/kaggle/input/thermal-images-diseased-healthy-leaves-paddy/thermal images UL\"\n",
    "augmented_dataset_path = \"/kaggle/working/augmented_dataset\"  \n",
    "possible_augmentations = [\n",
    "    transforms.RandomHorizontalFlip(p=1.0),  \n",
    "    transforms.RandomRotation(degrees=30),  \n",
    "    transforms.ColorJitter(brightness=0.3, contrast=0.3, saturation=0.3, hue=0.1),  \n",
    "    transforms.RandomAffine(degrees=0, translate=(0.2, 0.2)),  \n",
    "    transforms.RandomPerspective(distortion_scale=0.4, p=1.0),  \n",
    "    transforms.GaussianBlur(kernel_size=5, sigma=(0.1, 3.0)),  \n",
    "]\n",
    "\n",
    "original_dataset = ImageFolder(root=dataset_path)\n",
    "if not os.path.exists(augmented_dataset_path):\n",
    "    os.makedirs(augmented_dataset_path)\n",
    "\n",
    "for class_name in original_dataset.classes:\n",
    "    os.makedirs(os.path.join(augmented_dataset_path, class_name), exist_ok=True)\n",
    "\n",
    "num_augmentations = 8  \n",
    "for img_path, label in original_dataset.samples:\n",
    "    img = Image.open(img_path).convert(\"RGB\")\n",
    "    class_name = original_dataset.classes[label]\n",
    "    save_dir = os.path.join(augmented_dataset_path, class_name)\n",
    "\n",
    "    img.save(os.path.join(save_dir, os.path.basename(img_path)))\n",
    "    for i in range(num_augmentations):\n",
    "        selected_augmentations = random.sample(possible_augmentations, k=random.randint(1, 3)) \n",
    "        transform_pipeline = transforms.Compose([transforms.Resize((227, 227))] + selected_augmentations)  \n",
    "        \n",
    "        augmented_img = transform_pipeline(img)\n",
    "        save_path = os.path.join(save_dir, f\"aug_{i}_{os.path.basename(img_path)}\")\n",
    "        augmented_img.save(save_path)\n",
    "\n",
    "print(f\"Dataset is completely augmented \")"
   ]
  },
  {
   "cell_type": "code",
   "execution_count": 4,
   "id": "ae1bfe73",
   "metadata": {
    "execution": {
     "iopub.execute_input": "2025-02-10T11:42:12.773716Z",
     "iopub.status.busy": "2025-02-10T11:42:12.773491Z",
     "iopub.status.idle": "2025-02-10T11:42:12.776417Z",
     "shell.execute_reply": "2025-02-10T11:42:12.775797Z"
    },
    "papermill": {
     "duration": 0.007773,
     "end_time": "2025-02-10T11:42:12.777503",
     "exception": false,
     "start_time": "2025-02-10T11:42:12.769730",
     "status": "completed"
    },
    "tags": []
   },
   "outputs": [],
   "source": [
    "import shutil\n",
    "import os\n",
    "\n",
    "def zip_folder(folder_path, output_zip_path):\n",
    "    if not os.path.exists(folder_path):\n",
    "        print(f\"Error: The folder '{folder_path}' does not exist.\")\n",
    "        return\n",
    "    shutil.make_archive(output_zip_path, 'zip', folder_path)\n",
    "    print(f\"Folder '{folder_path}' has been zipped to '{output_zip_path}.zip'\")\n",
    "\n",
    "zip_folder(\"/kaggle/working/augmented_dataset\", \"/kaggle/working/augmented_dataset_zip_file\")\n",
    "print(f\"successfully zipped\")"
   ]
  },
  {
   "cell_type": "code",
   "execution_count": 5,
   "id": "022b9d95",
   "metadata": {
    "execution": {
     "iopub.execute_input": "2025-02-10T11:42:12.784602Z",
     "iopub.status.busy": "2025-02-10T11:42:12.784405Z",
     "iopub.status.idle": "2025-02-10T11:42:12.787416Z",
     "shell.execute_reply": "2025-02-10T11:42:12.786804Z"
    },
    "papermill": {
     "duration": 0.007806,
     "end_time": "2025-02-10T11:42:12.788568",
     "exception": false,
     "start_time": "2025-02-10T11:42:12.780762",
     "status": "completed"
    },
    "tags": []
   },
   "outputs": [],
   "source": [
    "augmented_dataset_path = \"/kaggle/input/thermal-dataset\""
   ]
  },
  {
   "cell_type": "code",
   "execution_count": 6,
   "id": "b6d15b6d",
   "metadata": {
    "execution": {
     "iopub.execute_input": "2025-02-10T11:42:12.795619Z",
     "iopub.status.busy": "2025-02-10T11:42:12.795421Z",
     "iopub.status.idle": "2025-02-10T11:42:17.912341Z",
     "shell.execute_reply": "2025-02-10T11:42:17.911380Z"
    },
    "papermill": {
     "duration": 5.122172,
     "end_time": "2025-02-10T11:42:17.914008",
     "exception": false,
     "start_time": "2025-02-10T11:42:12.791836",
     "status": "completed"
    },
    "tags": []
   },
   "outputs": [],
   "source": [
    "from torch.utils.data import DataLoader\n",
    "\n",
    "transform = transforms.Compose([\n",
    "    transforms.Resize((227, 227)), \n",
    "    transforms.ToTensor(),\n",
    "    transforms.Normalize(mean=[0.485, 0.456, 0.406], std=[0.229, 0.224, 0.225])\n",
    "])\n",
    "augmented_dataset = ImageFolder(root=augmented_dataset_path, transform=transform)\n",
    "train_size = int(0.6 * len(augmented_dataset))\n",
    "val_size = int(0.2 * len(augmented_dataset))\n",
    "test_size = len(augmented_dataset) - train_size - val_size\n",
    "train_dataset, val_dataset, test_dataset = torch.utils.data.random_split(augmented_dataset, [train_size, val_size, test_size])\n",
    "\n",
    "batch_size = 32\n",
    "train_loader = DataLoader(train_dataset, batch_size=batch_size, shuffle=True, num_workers=2)\n",
    "val_loader = DataLoader(val_dataset, batch_size=batch_size, shuffle=False, num_workers=2)\n",
    "test_loader = DataLoader(test_dataset, batch_size=batch_size, shuffle=False, num_workers=2)\n"
   ]
  },
  {
   "cell_type": "code",
   "execution_count": 7,
   "id": "099e1413",
   "metadata": {
    "execution": {
     "iopub.execute_input": "2025-02-10T11:42:17.922471Z",
     "iopub.status.busy": "2025-02-10T11:42:17.922175Z",
     "iopub.status.idle": "2025-02-10T11:47:41.579379Z",
     "shell.execute_reply": "2025-02-10T11:47:41.578408Z"
    },
    "papermill": {
     "duration": 323.662759,
     "end_time": "2025-02-10T11:47:41.580696",
     "exception": false,
     "start_time": "2025-02-10T11:42:17.917937",
     "status": "completed"
    },
    "tags": []
   },
   "outputs": [
    {
     "name": "stdout",
     "output_type": "stream",
     "text": [
      "Using device: cuda\n"
     ]
    },
    {
     "name": "stderr",
     "output_type": "stream",
     "text": [
      "Downloading: \"https://download.pytorch.org/models/googlenet-1378be20.pth\" to /root/.cache/torch/hub/checkpoints/googlenet-1378be20.pth\n",
      "100%|██████████| 49.7M/49.7M [00:00<00:00, 186MB/s]\n",
      "<ipython-input-7-e30acfe662f6>:25: FutureWarning: `torch.cuda.amp.GradScaler(args...)` is deprecated. Please use `torch.amp.GradScaler('cuda', args...)` instead.\n",
      "  scaler = torch.cuda.amp.GradScaler()\n",
      "Epoch 1/70:   0%|          | 0/108 [00:00<?, ?it/s]<ipython-input-7-e30acfe662f6>:47: FutureWarning: `torch.cuda.amp.autocast(args...)` is deprecated. Please use `torch.amp.autocast('cuda', args...)` instead.\n",
      "  with torch.cuda.amp.autocast():\n",
      "                                                             \r"
     ]
    },
    {
     "name": "stdout",
     "output_type": "stream",
     "text": [
      "Epoch 1/70, Loss: 1.6669, Accuracy: 30.69%\n"
     ]
    },
    {
     "name": "stderr",
     "output_type": "stream",
     "text": [
      "                                                             \r"
     ]
    },
    {
     "name": "stdout",
     "output_type": "stream",
     "text": [
      "Epoch 2/70, Loss: 1.5867, Accuracy: 35.70%\n"
     ]
    },
    {
     "name": "stderr",
     "output_type": "stream",
     "text": [
      "                                                             \r"
     ]
    },
    {
     "name": "stdout",
     "output_type": "stream",
     "text": [
      "Epoch 3/70, Loss: 1.5273, Accuracy: 38.09%\n"
     ]
    },
    {
     "name": "stderr",
     "output_type": "stream",
     "text": [
      "                                                             \r"
     ]
    },
    {
     "name": "stdout",
     "output_type": "stream",
     "text": [
      "Epoch 4/70, Loss: 1.4718, Accuracy: 40.62%\n"
     ]
    },
    {
     "name": "stderr",
     "output_type": "stream",
     "text": [
      "                                                             \r"
     ]
    },
    {
     "name": "stdout",
     "output_type": "stream",
     "text": [
      "Epoch 5/70, Loss: 1.4321, Accuracy: 42.84%\n"
     ]
    },
    {
     "name": "stderr",
     "output_type": "stream",
     "text": [
      "                                                             \r"
     ]
    },
    {
     "name": "stdout",
     "output_type": "stream",
     "text": [
      "Epoch 6/70, Loss: 1.3854, Accuracy: 44.85%\n"
     ]
    },
    {
     "name": "stderr",
     "output_type": "stream",
     "text": [
      "                                                             \r"
     ]
    },
    {
     "name": "stdout",
     "output_type": "stream",
     "text": [
      "Epoch 7/70, Loss: 1.3422, Accuracy: 48.75%\n"
     ]
    },
    {
     "name": "stderr",
     "output_type": "stream",
     "text": [
      "                                                             \r"
     ]
    },
    {
     "name": "stdout",
     "output_type": "stream",
     "text": [
      "Epoch 8/70, Loss: 1.3091, Accuracy: 49.71%\n"
     ]
    },
    {
     "name": "stderr",
     "output_type": "stream",
     "text": [
      "                                                             \r"
     ]
    },
    {
     "name": "stdout",
     "output_type": "stream",
     "text": [
      "Epoch 9/70, Loss: 1.2838, Accuracy: 51.19%\n"
     ]
    },
    {
     "name": "stderr",
     "output_type": "stream",
     "text": [
      "                                                              \r"
     ]
    },
    {
     "name": "stdout",
     "output_type": "stream",
     "text": [
      "Epoch 10/70, Loss: 1.2542, Accuracy: 53.15%\n"
     ]
    },
    {
     "name": "stderr",
     "output_type": "stream",
     "text": [
      "                                                              \r"
     ]
    },
    {
     "name": "stdout",
     "output_type": "stream",
     "text": [
      "Epoch 11/70, Loss: 1.2322, Accuracy: 54.75%\n"
     ]
    },
    {
     "name": "stderr",
     "output_type": "stream",
     "text": [
      "                                                              \r"
     ]
    },
    {
     "name": "stdout",
     "output_type": "stream",
     "text": [
      "Epoch 12/70, Loss: 1.2015, Accuracy: 56.79%\n"
     ]
    },
    {
     "name": "stderr",
     "output_type": "stream",
     "text": [
      "                                                              \r"
     ]
    },
    {
     "name": "stdout",
     "output_type": "stream",
     "text": [
      "Epoch 13/70, Loss: 1.1740, Accuracy: 57.40%\n"
     ]
    },
    {
     "name": "stderr",
     "output_type": "stream",
     "text": [
      "                                                              \r"
     ]
    },
    {
     "name": "stdout",
     "output_type": "stream",
     "text": [
      "Epoch 14/70, Loss: 1.1637, Accuracy: 59.00%\n"
     ]
    },
    {
     "name": "stderr",
     "output_type": "stream",
     "text": [
      "                                                              \r"
     ]
    },
    {
     "name": "stdout",
     "output_type": "stream",
     "text": [
      "Epoch 15/70, Loss: 1.1413, Accuracy: 58.85%\n"
     ]
    },
    {
     "name": "stderr",
     "output_type": "stream",
     "text": [
      "                                                              \r"
     ]
    },
    {
     "name": "stdout",
     "output_type": "stream",
     "text": [
      "Epoch 16/70, Loss: 1.1231, Accuracy: 60.25%\n"
     ]
    },
    {
     "name": "stderr",
     "output_type": "stream",
     "text": [
      "                                                              \r"
     ]
    },
    {
     "name": "stdout",
     "output_type": "stream",
     "text": [
      "Epoch 17/70, Loss: 1.1071, Accuracy: 61.09%\n"
     ]
    },
    {
     "name": "stderr",
     "output_type": "stream",
     "text": [
      "                                                              \r"
     ]
    },
    {
     "name": "stdout",
     "output_type": "stream",
     "text": [
      "Epoch 18/70, Loss: 1.0999, Accuracy: 60.98%\n"
     ]
    },
    {
     "name": "stderr",
     "output_type": "stream",
     "text": [
      "                                                              \r"
     ]
    },
    {
     "name": "stdout",
     "output_type": "stream",
     "text": [
      "Epoch 19/70, Loss: 1.0700, Accuracy: 63.54%\n"
     ]
    },
    {
     "name": "stderr",
     "output_type": "stream",
     "text": [
      "                                                              \r"
     ]
    },
    {
     "name": "stdout",
     "output_type": "stream",
     "text": [
      "Epoch 20/70, Loss: 1.0696, Accuracy: 62.99%\n"
     ]
    },
    {
     "name": "stderr",
     "output_type": "stream",
     "text": [
      "                                                              \r"
     ]
    },
    {
     "name": "stdout",
     "output_type": "stream",
     "text": [
      "Epoch 21/70, Loss: 1.0515, Accuracy: 63.08%\n"
     ]
    },
    {
     "name": "stderr",
     "output_type": "stream",
     "text": [
      "                                                              \r"
     ]
    },
    {
     "name": "stdout",
     "output_type": "stream",
     "text": [
      "Epoch 22/70, Loss: 1.0388, Accuracy: 64.41%\n"
     ]
    },
    {
     "name": "stderr",
     "output_type": "stream",
     "text": [
      "                                                              \r"
     ]
    },
    {
     "name": "stdout",
     "output_type": "stream",
     "text": [
      "Epoch 23/70, Loss: 1.0250, Accuracy: 64.68%\n"
     ]
    },
    {
     "name": "stderr",
     "output_type": "stream",
     "text": [
      "                                                              \r"
     ]
    },
    {
     "name": "stdout",
     "output_type": "stream",
     "text": [
      "Epoch 24/70, Loss: 1.0212, Accuracy: 64.09%\n"
     ]
    },
    {
     "name": "stderr",
     "output_type": "stream",
     "text": [
      "                                                              \r"
     ]
    },
    {
     "name": "stdout",
     "output_type": "stream",
     "text": [
      "Epoch 25/70, Loss: 1.0046, Accuracy: 65.52%\n"
     ]
    },
    {
     "name": "stderr",
     "output_type": "stream",
     "text": [
      "                                                              \r"
     ]
    },
    {
     "name": "stdout",
     "output_type": "stream",
     "text": [
      "Epoch 26/70, Loss: 1.0073, Accuracy: 65.00%\n"
     ]
    },
    {
     "name": "stderr",
     "output_type": "stream",
     "text": [
      "                                                              \r"
     ]
    },
    {
     "name": "stdout",
     "output_type": "stream",
     "text": [
      "Epoch 27/70, Loss: 0.9904, Accuracy: 65.84%\n"
     ]
    },
    {
     "name": "stderr",
     "output_type": "stream",
     "text": [
      "                                                              \r"
     ]
    },
    {
     "name": "stdout",
     "output_type": "stream",
     "text": [
      "Epoch 28/70, Loss: 0.9771, Accuracy: 66.45%\n"
     ]
    },
    {
     "name": "stderr",
     "output_type": "stream",
     "text": [
      "                                                              \r"
     ]
    },
    {
     "name": "stdout",
     "output_type": "stream",
     "text": [
      "Epoch 29/70, Loss: 0.9816, Accuracy: 64.94%\n"
     ]
    },
    {
     "name": "stderr",
     "output_type": "stream",
     "text": [
      "                                                              \r"
     ]
    },
    {
     "name": "stdout",
     "output_type": "stream",
     "text": [
      "Epoch 30/70, Loss: 0.9672, Accuracy: 66.05%\n"
     ]
    },
    {
     "name": "stderr",
     "output_type": "stream",
     "text": [
      "                                                              \r"
     ]
    },
    {
     "name": "stdout",
     "output_type": "stream",
     "text": [
      "Epoch 31/70, Loss: 0.9613, Accuracy: 65.99%\n"
     ]
    },
    {
     "name": "stderr",
     "output_type": "stream",
     "text": [
      "                                                              \r"
     ]
    },
    {
     "name": "stdout",
     "output_type": "stream",
     "text": [
      "Epoch 32/70, Loss: 0.9574, Accuracy: 66.69%\n"
     ]
    },
    {
     "name": "stderr",
     "output_type": "stream",
     "text": [
      "                                                              \r"
     ]
    },
    {
     "name": "stdout",
     "output_type": "stream",
     "text": [
      "Epoch 33/70, Loss: 0.9422, Accuracy: 67.21%\n"
     ]
    },
    {
     "name": "stderr",
     "output_type": "stream",
     "text": [
      "                                                              \r"
     ]
    },
    {
     "name": "stdout",
     "output_type": "stream",
     "text": [
      "Epoch 34/70, Loss: 0.9347, Accuracy: 67.91%\n"
     ]
    },
    {
     "name": "stderr",
     "output_type": "stream",
     "text": [
      "                                                              \r"
     ]
    },
    {
     "name": "stdout",
     "output_type": "stream",
     "text": [
      "Epoch 35/70, Loss: 0.9370, Accuracy: 66.89%\n"
     ]
    },
    {
     "name": "stderr",
     "output_type": "stream",
     "text": [
      "                                                              \r"
     ]
    },
    {
     "name": "stdout",
     "output_type": "stream",
     "text": [
      "Epoch 36/70, Loss: 0.9116, Accuracy: 69.10%\n"
     ]
    },
    {
     "name": "stderr",
     "output_type": "stream",
     "text": [
      "                                                              \r"
     ]
    },
    {
     "name": "stdout",
     "output_type": "stream",
     "text": [
      "Epoch 37/70, Loss: 0.9252, Accuracy: 67.59%\n"
     ]
    },
    {
     "name": "stderr",
     "output_type": "stream",
     "text": [
      "                                                              \r"
     ]
    },
    {
     "name": "stdout",
     "output_type": "stream",
     "text": [
      "Epoch 38/70, Loss: 0.9088, Accuracy: 69.48%\n"
     ]
    },
    {
     "name": "stderr",
     "output_type": "stream",
     "text": [
      "                                                              \r"
     ]
    },
    {
     "name": "stdout",
     "output_type": "stream",
     "text": [
      "Epoch 39/70, Loss: 0.9078, Accuracy: 68.38%\n"
     ]
    },
    {
     "name": "stderr",
     "output_type": "stream",
     "text": [
      "                                                              \r"
     ]
    },
    {
     "name": "stdout",
     "output_type": "stream",
     "text": [
      "Epoch 40/70, Loss: 0.9154, Accuracy: 67.91%\n"
     ]
    },
    {
     "name": "stderr",
     "output_type": "stream",
     "text": [
      "                                                              \r"
     ]
    },
    {
     "name": "stdout",
     "output_type": "stream",
     "text": [
      "Epoch 41/70, Loss: 0.9016, Accuracy: 68.75%\n"
     ]
    },
    {
     "name": "stderr",
     "output_type": "stream",
     "text": [
      "                                                              \r"
     ]
    },
    {
     "name": "stdout",
     "output_type": "stream",
     "text": [
      "Epoch 42/70, Loss: 0.8979, Accuracy: 68.67%\n"
     ]
    },
    {
     "name": "stderr",
     "output_type": "stream",
     "text": [
      "                                                              \r"
     ]
    },
    {
     "name": "stdout",
     "output_type": "stream",
     "text": [
      "Epoch 43/70, Loss: 0.8865, Accuracy: 70.15%\n"
     ]
    },
    {
     "name": "stderr",
     "output_type": "stream",
     "text": [
      "                                                              \r"
     ]
    },
    {
     "name": "stdout",
     "output_type": "stream",
     "text": [
      "Epoch 44/70, Loss: 0.8888, Accuracy: 69.19%\n"
     ]
    },
    {
     "name": "stderr",
     "output_type": "stream",
     "text": [
      "                                                              \r"
     ]
    },
    {
     "name": "stdout",
     "output_type": "stream",
     "text": [
      "Epoch 45/70, Loss: 0.8889, Accuracy: 69.04%\n"
     ]
    },
    {
     "name": "stderr",
     "output_type": "stream",
     "text": [
      "                                                              \r"
     ]
    },
    {
     "name": "stdout",
     "output_type": "stream",
     "text": [
      "Epoch 46/70, Loss: 0.8746, Accuracy: 69.66%\n"
     ]
    },
    {
     "name": "stderr",
     "output_type": "stream",
     "text": [
      "                                                              \r"
     ]
    },
    {
     "name": "stdout",
     "output_type": "stream",
     "text": [
      "Epoch 47/70, Loss: 0.8679, Accuracy: 69.57%\n"
     ]
    },
    {
     "name": "stderr",
     "output_type": "stream",
     "text": [
      "                                                              \r"
     ]
    },
    {
     "name": "stdout",
     "output_type": "stream",
     "text": [
      "Epoch 48/70, Loss: 0.8625, Accuracy: 69.16%\n"
     ]
    },
    {
     "name": "stderr",
     "output_type": "stream",
     "text": [
      "                                                              \r"
     ]
    },
    {
     "name": "stdout",
     "output_type": "stream",
     "text": [
      "Epoch 49/70, Loss: 0.8595, Accuracy: 69.71%\n"
     ]
    },
    {
     "name": "stderr",
     "output_type": "stream",
     "text": [
      "                                                              \r"
     ]
    },
    {
     "name": "stdout",
     "output_type": "stream",
     "text": [
      "Epoch 50/70, Loss: 0.8621, Accuracy: 69.80%\n"
     ]
    },
    {
     "name": "stderr",
     "output_type": "stream",
     "text": [
      "                                                              \r"
     ]
    },
    {
     "name": "stdout",
     "output_type": "stream",
     "text": [
      "Epoch 51/70, Loss: 0.8544, Accuracy: 70.97%\n"
     ]
    },
    {
     "name": "stderr",
     "output_type": "stream",
     "text": [
      "                                                              \r"
     ]
    },
    {
     "name": "stdout",
     "output_type": "stream",
     "text": [
      "Epoch 52/70, Loss: 0.8429, Accuracy: 70.82%\n"
     ]
    },
    {
     "name": "stderr",
     "output_type": "stream",
     "text": [
      "                                                              \r"
     ]
    },
    {
     "name": "stdout",
     "output_type": "stream",
     "text": [
      "Epoch 53/70, Loss: 0.8493, Accuracy: 70.70%\n"
     ]
    },
    {
     "name": "stderr",
     "output_type": "stream",
     "text": [
      "                                                              \r"
     ]
    },
    {
     "name": "stdout",
     "output_type": "stream",
     "text": [
      "Epoch 54/70, Loss: 0.8573, Accuracy: 69.98%\n"
     ]
    },
    {
     "name": "stderr",
     "output_type": "stream",
     "text": [
      "                                                              \r"
     ]
    },
    {
     "name": "stdout",
     "output_type": "stream",
     "text": [
      "Epoch 55/70, Loss: 0.8443, Accuracy: 70.82%\n"
     ]
    },
    {
     "name": "stderr",
     "output_type": "stream",
     "text": [
      "                                                              \r"
     ]
    },
    {
     "name": "stdout",
     "output_type": "stream",
     "text": [
      "Epoch 56/70, Loss: 0.8412, Accuracy: 70.82%\n"
     ]
    },
    {
     "name": "stderr",
     "output_type": "stream",
     "text": [
      "                                                              \r"
     ]
    },
    {
     "name": "stdout",
     "output_type": "stream",
     "text": [
      "Epoch 57/70, Loss: 0.8428, Accuracy: 70.30%\n"
     ]
    },
    {
     "name": "stderr",
     "output_type": "stream",
     "text": [
      "                                                              \r"
     ]
    },
    {
     "name": "stdout",
     "output_type": "stream",
     "text": [
      "Epoch 58/70, Loss: 0.8352, Accuracy: 71.03%\n"
     ]
    },
    {
     "name": "stderr",
     "output_type": "stream",
     "text": [
      "                                                              \r"
     ]
    },
    {
     "name": "stdout",
     "output_type": "stream",
     "text": [
      "Epoch 59/70, Loss: 0.8242, Accuracy: 71.08%\n"
     ]
    },
    {
     "name": "stderr",
     "output_type": "stream",
     "text": [
      "                                                              \r"
     ]
    },
    {
     "name": "stdout",
     "output_type": "stream",
     "text": [
      "Epoch 60/70, Loss: 0.8300, Accuracy: 70.21%\n"
     ]
    },
    {
     "name": "stderr",
     "output_type": "stream",
     "text": [
      "                                                              \r"
     ]
    },
    {
     "name": "stdout",
     "output_type": "stream",
     "text": [
      "Epoch 61/70, Loss: 0.8339, Accuracy: 70.38%\n"
     ]
    },
    {
     "name": "stderr",
     "output_type": "stream",
     "text": [
      "                                                              \r"
     ]
    },
    {
     "name": "stdout",
     "output_type": "stream",
     "text": [
      "Epoch 62/70, Loss: 0.8225, Accuracy: 70.68%\n"
     ]
    },
    {
     "name": "stderr",
     "output_type": "stream",
     "text": [
      "                                                              \r"
     ]
    },
    {
     "name": "stdout",
     "output_type": "stream",
     "text": [
      "Epoch 63/70, Loss: 0.8218, Accuracy: 70.94%\n"
     ]
    },
    {
     "name": "stderr",
     "output_type": "stream",
     "text": [
      "                                                              \r"
     ]
    },
    {
     "name": "stdout",
     "output_type": "stream",
     "text": [
      "Epoch 64/70, Loss: 0.8198, Accuracy: 71.52%\n"
     ]
    },
    {
     "name": "stderr",
     "output_type": "stream",
     "text": [
      "                                                              \r"
     ]
    },
    {
     "name": "stdout",
     "output_type": "stream",
     "text": [
      "Epoch 65/70, Loss: 0.8128, Accuracy: 71.20%\n"
     ]
    },
    {
     "name": "stderr",
     "output_type": "stream",
     "text": [
      "                                                              \r"
     ]
    },
    {
     "name": "stdout",
     "output_type": "stream",
     "text": [
      "Epoch 66/70, Loss: 0.8139, Accuracy: 71.35%\n"
     ]
    },
    {
     "name": "stderr",
     "output_type": "stream",
     "text": [
      "                                                              \r"
     ]
    },
    {
     "name": "stdout",
     "output_type": "stream",
     "text": [
      "Epoch 67/70, Loss: 0.8066, Accuracy: 71.49%\n"
     ]
    },
    {
     "name": "stderr",
     "output_type": "stream",
     "text": [
      "                                                              \r"
     ]
    },
    {
     "name": "stdout",
     "output_type": "stream",
     "text": [
      "Epoch 68/70, Loss: 0.8106, Accuracy: 71.20%\n"
     ]
    },
    {
     "name": "stderr",
     "output_type": "stream",
     "text": [
      "                                                              \r"
     ]
    },
    {
     "name": "stdout",
     "output_type": "stream",
     "text": [
      "Epoch 69/70, Loss: 0.8018, Accuracy: 71.23%\n"
     ]
    },
    {
     "name": "stderr",
     "output_type": "stream",
     "text": [
      "                                                              \r"
     ]
    },
    {
     "name": "stdout",
     "output_type": "stream",
     "text": [
      "Epoch 70/70, Loss: 0.8065, Accuracy: 71.55%\n",
      "\n",
      "Model saved as googlenet_trained.pth\n"
     ]
    }
   ],
   "source": [
    "import torch\n",
    "import torch.nn as nn\n",
    "import torch.optim as optim\n",
    "from torch.utils.data import DataLoader\n",
    "from tqdm import tqdm\n",
    "import torchvision.models as models\n",
    "\n",
    "device = torch.device(\"cuda\" if torch.cuda.is_available() else \"cpu\")\n",
    "print(f\"Using device: {device}\")\n",
    "\n",
    "model = models.googlenet(weights=models.GoogLeNet_Weights.IMAGENET1K_V1)\n",
    "\n",
    "num_ftrs = model.fc.in_features\n",
    "num_classes = 6\n",
    "model.fc = nn.Linear(num_ftrs, num_classes)\n",
    "\n",
    "for param in model.parameters():\n",
    "    param.requires_grad = False\n",
    "for param in model.fc.parameters():\n",
    "    param.requires_grad = True\n",
    "\n",
    "model = model.to(device)\n",
    "criterion = nn.CrossEntropyLoss()\n",
    "optimizer = optim.Adam(model.fc.parameters(), lr=0.0001)\n",
    "scaler = torch.cuda.amp.GradScaler()\n",
    "\n",
    "train_loader = DataLoader(train_dataset, batch_size=32, shuffle=True, num_workers=4, pin_memory=True)\n",
    "val_loader = DataLoader(val_dataset, batch_size=32, shuffle=False, num_workers=4, pin_memory=True)\n",
    "test_loader = DataLoader(test_dataset, batch_size=32, shuffle=False, num_workers=4, pin_memory=True)\n",
    "\n",
    "num_epochs = 70\n",
    "train_acc_history = []\n",
    "val_acc_history = []\n",
    "test_acc_history = []\n",
    "\n",
    "for epoch in range(num_epochs):\n",
    "    model.train()\n",
    "    correct = 0\n",
    "    total = 0\n",
    "    running_loss = 0.0\n",
    "\n",
    "    for images, labels in tqdm(train_loader, desc=f\"Epoch {epoch+1}/{num_epochs}\", leave=False):\n",
    "        images, labels = images.to(device), labels.to(device)\n",
    "\n",
    "        optimizer.zero_grad()\n",
    "\n",
    "        with torch.cuda.amp.autocast():\n",
    "            outputs = model(images)\n",
    "            loss = criterion(outputs, labels)\n",
    "\n",
    "        scaler.scale(loss).backward()\n",
    "        scaler.step(optimizer)\n",
    "        scaler.update()\n",
    "\n",
    "        running_loss += loss.item()\n",
    "        _, predicted = torch.max(outputs, 1)\n",
    "        correct += (predicted == labels).sum().item()\n",
    "        total += labels.size(0)\n",
    "\n",
    "    train_acc = 100 * correct / total\n",
    "    print(f\"Epoch {epoch+1}/{num_epochs}, Loss: {running_loss / len(train_loader):.4f}, Accuracy: {train_acc:.2f}%\")\n",
    "\n",
    "torch.save(model.state_dict(), \"googlenet_trained.pth\")\n",
    "print(\"\\nModel saved as googlenet_trained.pth\")\n"
   ]
  },
  {
   "cell_type": "code",
   "execution_count": 8,
   "id": "797d69fe",
   "metadata": {
    "execution": {
     "iopub.execute_input": "2025-02-10T11:47:41.804298Z",
     "iopub.status.busy": "2025-02-10T11:47:41.804005Z",
     "iopub.status.idle": "2025-02-10T11:47:50.600424Z",
     "shell.execute_reply": "2025-02-10T11:47:50.599361Z"
    },
    "papermill": {
     "duration": 8.908684,
     "end_time": "2025-02-10T11:47:50.601721",
     "exception": false,
     "start_time": "2025-02-10T11:47:41.693037",
     "status": "completed"
    },
    "tags": []
   },
   "outputs": [
    {
     "name": "stdout",
     "output_type": "stream",
     "text": [
      "\n",
      " Final Per-Class Training Accuracy:\n",
      "\n",
      "BLB: Training = 85.54%\n",
      "Blast: Training = 44.57%\n",
      "healthy: Training = 77.19%\n",
      "hispa: Training = 79.67%\n",
      "leaf folder: Training = 88.83%\n",
      "leaf spot: Training = 68.91%\n",
      "\n",
      " Final Per-Class Validation Accuracy:\n",
      "\n",
      "BLB: Validation = 79.26%\n",
      "Blast: Validation = 30.08%\n",
      "healthy: Validation = 77.97%\n",
      "hispa: Validation = 78.48%\n",
      "leaf folder: Validation = 82.26%\n",
      "leaf spot: Validation = 54.29%\n",
      "\n",
      " Final Per-Class Test Accuracy:\n",
      "\n",
      "BLB: Test = 80.54%\n",
      "Blast: Test = 27.68%\n",
      "healthy: Test = 74.56%\n",
      "hispa: Test = 81.50%\n",
      "leaf folder: Test = 89.29%\n",
      "leaf spot: Test = 58.39%\n"
     ]
    }
   ],
   "source": [
    "import numpy as np\n",
    "import torch\n",
    "\n",
    "class_names = augmented_dataset.classes  \n",
    "num_classes = len(class_names)  \n",
    "\n",
    "def calculate_per_class_accuracy(model, data_loaders, device, datasets=[\"Training\", \"Validation\", \"Test\"]):\n",
    "    for dataset_type, data_loader in zip(datasets, data_loaders):\n",
    "        model.eval()\n",
    "        class_correct = np.zeros(num_classes) \n",
    "        class_total = np.zeros(num_classes)\n",
    "\n",
    "        with torch.no_grad():\n",
    "            for images, labels in data_loader:\n",
    "                images, labels = images.to(device), labels.to(device)\n",
    "                outputs = model(images)\n",
    "                _, predicted = torch.max(outputs, 1)\n",
    "\n",
    "                for i in range(len(labels)):\n",
    "                    label = labels[i].item()\n",
    "                    class_correct[label] += (predicted[i] == label).item()\n",
    "                    class_total[label] += 1\n",
    "\n",
    "        print(f\"\\n Final Per-Class {dataset_type} Accuracy:\\n\")\n",
    "        for i in range(num_classes):  \n",
    "            if class_total[i] > 0:\n",
    "                accuracy = 100 * class_correct[i] / class_total[i]\n",
    "                print(f\"{class_names[i]}: {dataset_type} = {accuracy:.2f}%\")\n",
    "            else:\n",
    "                print(f\"{class_names[i]}: {dataset_type} = No samples available \")\n",
    "\n",
    "data_loaders = [train_loader, val_loader, test_loader]\n",
    "datasets = [\"Training\", \"Validation\", \"Test\"]\n",
    "calculate_per_class_accuracy(model, data_loaders, device, datasets=datasets)"
   ]
  },
  {
   "cell_type": "code",
   "execution_count": 9,
   "id": "dd497621",
   "metadata": {
    "execution": {
     "iopub.execute_input": "2025-02-10T11:47:50.823939Z",
     "iopub.status.busy": "2025-02-10T11:47:50.823611Z",
     "iopub.status.idle": "2025-02-10T11:47:55.438201Z",
     "shell.execute_reply": "2025-02-10T11:47:55.437213Z"
    },
    "papermill": {
     "duration": 4.726511,
     "end_time": "2025-02-10T11:47:55.439582",
     "exception": false,
     "start_time": "2025-02-10T11:47:50.713071",
     "status": "completed"
    },
    "tags": []
   },
   "outputs": [
    {
     "name": "stdout",
     "output_type": "stream",
     "text": [
      "Test Accuracy: 72.25%\n"
     ]
    },
    {
     "data": {
      "image/png": "[encoded data removed]",
      "text/plain": [
       "<Figure size 1000x500 with 1 Axes>"
      ]
     },
     "metadata": {},
     "output_type": "display_data"
    }
   ],
   "source": [
    "import numpy as np\n",
    "import torch\n",
    "from sklearn.metrics import precision_recall_curve, average_precision_score\n",
    "import matplotlib.pyplot as plt\n",
    "y_true = []\n",
    "y_scores = []\n",
    "model.eval()\n",
    "\n",
    "correct = 0\n",
    "total = 0\n",
    "with torch.no_grad():\n",
    "    for images, labels in test_loader:\n",
    "        images, labels = images.to(device), labels.to(device)\n",
    "        outputs = model(images)\n",
    "        _, predicted = torch.max(outputs, 1)\n",
    "        correct += (predicted == labels).sum().item()\n",
    "        total += labels.size(0)\n",
    "\n",
    "test_acc = 100 * correct / total\n",
    "print(f\"Test Accuracy: {test_acc:.2f}%\")\n",
    "with torch.no_grad():\n",
    "    for images, labels in test_loader:\n",
    "        images, labels = images.to(device), labels.to(device)\n",
    "        outputs = model(images)\n",
    "        probs = torch.nn.functional.softmax(outputs, dim=1)\n",
    "        \n",
    "        y_true.extend(labels.cpu().numpy())\n",
    "        y_scores.extend(probs.cpu().numpy())\n",
    "\n",
    "y_true = np.array(y_true)\n",
    "y_scores = np.array(y_scores)\n",
    "\n",
    "plt.figure(figsize=(10, 5))\n",
    "for i in range(len(class_names)):\n",
    "    precision, recall, _ = precision_recall_curve(y_true == i, y_scores[:, i])\n",
    "    avg_precision = average_precision_score(y_true == i, y_scores[:, i])\n",
    "    plt.plot(recall, precision, label=f\"{class_names[i]} (AP={avg_precision:.2f})\")\n",
    "\n",
    "plt.xlabel(\"Recall\")\n",
    "plt.ylabel(\"Precision\")\n",
    "plt.title(\"Precision-Recall Curve for Plant Disease Classification\")\n",
    "plt.legend()\n",
    "plt.show()"
   ]
  },
  {
   "cell_type": "code",
   "execution_count": 10,
   "id": "82ec8c0b",
   "metadata": {
    "execution": {
     "iopub.execute_input": "2025-02-10T11:47:55.669799Z",
     "iopub.status.busy": "2025-02-10T11:47:55.669343Z",
     "iopub.status.idle": "2025-02-10T11:47:55.674370Z",
     "shell.execute_reply": "2025-02-10T11:47:55.673555Z"
    },
    "papermill": {
     "duration": 0.120239,
     "end_time": "2025-02-10T11:47:55.675541",
     "exception": false,
     "start_time": "2025-02-10T11:47:55.555302",
     "status": "completed"
    },
    "tags": []
   },
   "outputs": [
    {
     "data": {
      "text/plain": [
       "' \\n\\nUNet, Resnet, SegNet, GoogleNet, VGG, AlexNet, IncepTon V3, R-CNN, YOLOv11,\\nViT, EfficientNetv2\\n'"
      ]
     },
     "execution_count": 10,
     "metadata": {},
     "output_type": "execute_result"
    }
   ],
   "source": [
    "\"\"\" \n",
    "\n",
    "UNet, Resnet, SegNet, GoogleNet, VGG, AlexNet, IncepTon V3, R-CNN, YOLOv11,\n",
    "ViT, EfficientNetv2\n",
    "\"\"\""
   ]
  },
  {
   "cell_type": "code",
   "execution_count": 11,
   "id": "9bcc059b",
   "metadata": {
    "execution": {
     "iopub.execute_input": "2025-02-10T11:47:55.899977Z",
     "iopub.status.busy": "2025-02-10T11:47:55.899667Z",
     "iopub.status.idle": "2025-02-10T11:47:55.902826Z",
     "shell.execute_reply": "2025-02-10T11:47:55.902026Z"
    },
    "papermill": {
     "duration": 0.117223,
     "end_time": "2025-02-10T11:47:55.904224",
     "exception": false,
     "start_time": "2025-02-10T11:47:55.787001",
     "status": "completed"
    },
    "tags": []
   },
   "outputs": [],
   "source": [
    "# alexnet , resnet , googlenet , unet , vgg\n",
    "# segnet , inception , rcnn , vit  , efficient net"
   ]
  }
 ],
 "metadata": {
  "kaggle": {
   "accelerator": "gpu",
   "dataSources": [
    {
     "datasetId": 608236,
     "sourceId": 1091061,
     "sourceType": "datasetVersion"
    },
    {
     "datasetId": 6638340,
     "sourceId": 10710646,
     "sourceType": "datasetVersion"
    }
   ],
   "dockerImageVersionId": 30886,
   "isGpuEnabled": true,
   "isInternetEnabled": true,
   "language": "python",
   "sourceType": "notebook"
  },
  "kernelspec": {
   "display_name": "Python 3",
   "language": "python",
   "name": "python3"
  },
  "language_info": {
   "codemirror_mode": {
    "name": "ipython",
    "version": 3
   },
   "file_extension": ".py",
   "mimetype": "text/x-python",
   "name": "python",
   "nbconvert_exporter": "python",
   "pygments_lexer": "ipython3",
   "version": "3.10.12"
  },
  "papermill": {
   "default_parameters": {},
   "duration": 364.188289,
   "end_time": "2025-02-10T11:47:58.362804",
   "environment_variables": {},
   "exception": null,
   "input_path": "__notebook__.ipynb",
   "output_path": "__notebook__.ipynb",
   "parameters": {},
   "start_time": "2025-02-10T11:41:54.174515",
   "version": "2.6.0"
  }
 },
 "nbformat": 4,
 "nbformat_minor": 5
}
